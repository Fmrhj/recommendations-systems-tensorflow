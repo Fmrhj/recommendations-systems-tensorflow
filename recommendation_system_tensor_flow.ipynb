{
 "cells": [
  {
   "cell_type": "markdown",
   "metadata": {},
   "source": [
    "# Recommendation Systems "
   ]
  },
  {
   "cell_type": "code",
   "execution_count": 2,
   "metadata": {},
   "outputs": [],
   "source": [
    "import numpy as np"
   ]
  },
  {
   "cell_type": "markdown",
   "metadata": {},
   "source": [
    "![](public/dot_product.png)"
   ]
  },
  {
   "cell_type": "markdown",
   "metadata": {},
   "source": [
    "## Content-based Recommendation System "
   ]
  },
  {
   "cell_type": "code",
   "execution_count": 5,
   "metadata": {},
   "outputs": [
    {
     "data": {
      "text/plain": [
       "matrix([[0.21782178, 0.1980198 , 0.11881188, 0.22772277, 0.23762376]])"
      ]
     },
     "execution_count": 5,
     "metadata": {},
     "output_type": "execute_result"
    }
   ],
   "source": [
    "# Vector with ratings of one user for each product  \n",
    "user_item_rating = np.array([10, 7, 4, 8, 10, 2, 6])\n",
    "\n",
    "#k-hot encoded encoding representation \n",
    "item_feature_matrix = np.matrix([[0, 0, 1, 0, 1], [0, 0, 0, 1, 0], [1, 0, 0, 0, 1],  [1, 1, 0, 0, 1], [1, 1, 0, 1, 0], [0, 1, 1, 0, 1], [0, 0, 0, 1, 0]])\n",
    "\n",
    "\n",
    "weighted_feature_matrix = np.matrix([[0, 0, 1, 0, 1], [0, 0, 0, 1, 0], [1, 0, 0, 0, 1],  [1, 1, 0, 0, 1], [1, 1, 0, 1, 0], [0, 1, 1, 0, 1], [0, 0, 0, 1,0]])\n",
    "\n",
    "user_feature_vector = user_item_rating*item_feature_matrix \n",
    "user_vector_ratings = (user_feature_vector)/np.sum(user_feature_vector)\n",
    "user_vector_ratings"
   ]
  }
 ],
 "metadata": {
  "kernelspec": {
   "display_name": "Python 3",
   "language": "python",
   "name": "python3"
  },
  "language_info": {
   "codemirror_mode": {
    "name": "ipython",
    "version": 3
   },
   "file_extension": ".py",
   "mimetype": "text/x-python",
   "name": "python",
   "nbconvert_exporter": "python",
   "pygments_lexer": "ipython3",
   "version": "3.8.2"
  }
 },
 "nbformat": 4,
 "nbformat_minor": 4
}
